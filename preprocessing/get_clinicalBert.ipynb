{
 "cells": [
  {
   "cell_type": "markdown",
   "id": "724b3b94",
   "metadata": {},
   "source": [
    "### 下载ClinicalBert到项目根目录的`BERT_model/clinicalbert`中，\n",
    "#### 如果你还下载了其他bert，如umls-bert，tiny-bert，或者原始bert，都建议下载到`./BERT_model/xxx-bert`便于管理\n",
    "\n",
    "**建议稍微学习使用transformers包，还有《李宏毅机器学习2025》**"
   ]
  },
  {
   "cell_type": "code",
   "execution_count": 1,
   "id": "a9e4e477",
   "metadata": {},
   "outputs": [
    {
     "name": "stderr",
     "output_type": "stream",
     "text": [
      "c:\\Users\\Doog\\.conda\\envs\\doog\\lib\\site-packages\\tqdm\\auto.py:21: TqdmWarning: IProgress not found. Please update jupyter and ipywidgets. See https://ipywidgets.readthedocs.io/en/stable/user_install.html\n",
      "  from .autonotebook import tqdm as notebook_tqdm\n"
     ]
    },
    {
     "name": "stdout",
     "output_type": "stream",
     "text": [
      "模型已存在，跳过下载。\n"
     ]
    }
   ],
   "source": [
    "# Code by ChatGPT\n",
    "\n",
    "from transformers import AutoTokenizer, AutoModel\n",
    "import os\n",
    "\n",
    "# 目标目录\n",
    "save_dir = \"../BERT_model\"\n",
    "os.makedirs(save_dir, exist_ok=True)\n",
    "\n",
    "model_name = \"emilyalsentzer/Bio_ClinicalBERT\"\n",
    "save_path = save_dir + \"/clinicalbert\"\n",
    "\n",
    "if os.path.exists(save_path):\n",
    "    print(\"模型已存在，跳过下载。\")\n",
    "else:\n",
    "    tokenizer = AutoTokenizer.from_pretrained(model_name)\n",
    "    tokenizer.save_pretrained(save_path)\n",
    "\n",
    "    model = AutoModel.from_pretrained(model_name)\n",
    "    model.save_pretrained(save_path)\n",
    "\n",
    "    print(\"ClinicalBERT 下载成功！\")"
   ]
  },
  {
   "cell_type": "markdown",
   "id": "b95260f3",
   "metadata": {},
   "source": [
    "### 加载bert请使参考下面被注释掉的代码块"
   ]
  },
  {
   "cell_type": "code",
   "execution_count": null,
   "id": "77638169",
   "metadata": {},
   "outputs": [
    {
     "name": "stdout",
     "output_type": "stream",
     "text": [
      "ClinicalBERT 加载成功！\n"
     ]
    }
   ],
   "source": [
    "# from transformers import AutoTokenizer, AutoModel\n",
    "\n",
    "# # 本地模型路径\n",
    "# model_path = \"../BERT_model/clinicalbert\"\n",
    "\n",
    "# # 加载 tokenizer 和 model\n",
    "# tokenizer = AutoTokenizer.from_pretrained(model_path)\n",
    "# model = AutoModel.from_pretrained(model_path)\n",
    "\n",
    "# print(\"ClinicalBERT 加载成功！\")"
   ]
  },
  {
   "cell_type": "code",
   "execution_count": null,
   "id": "41d8dba0",
   "metadata": {},
   "outputs": [],
   "source": []
  }
 ],
 "metadata": {
  "kernelspec": {
   "display_name": "doog",
   "language": "python",
   "name": "python3"
  },
  "language_info": {
   "codemirror_mode": {
    "name": "ipython",
    "version": 3
   },
   "file_extension": ".py",
   "mimetype": "text/x-python",
   "name": "python",
   "nbconvert_exporter": "python",
   "pygments_lexer": "ipython3",
   "version": "3.10.6"
  }
 },
 "nbformat": 4,
 "nbformat_minor": 5
}

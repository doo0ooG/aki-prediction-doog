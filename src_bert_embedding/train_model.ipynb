{
 "cells": [
  {
   "cell_type": "markdown",
   "id": "735a7c4d",
   "metadata": {},
   "source": [
    "# 导包+定义常量"
   ]
  },
  {
   "cell_type": "code",
   "execution_count": 28,
   "id": "39cf5be3",
   "metadata": {},
   "outputs": [],
   "source": [
    "import torch\n",
    "import numpy as np\n",
    "import pandas as pd\n",
    "import os\n",
    "from tqdm import tqdm\n",
    "import torch.nn as nn\n",
    "import torch.nn.functional as F\n",
    "from torch.utils.data import Dataset, DataLoader\n",
    "from sklearn.metrics import accuracy_score, roc_auc_score, roc_curve\n",
    "\n",
    "import matplotlib.pyplot as plt"
   ]
  },
  {
   "cell_type": "code",
   "execution_count": 2,
   "id": "6a40069e",
   "metadata": {},
   "outputs": [],
   "source": [
    "train_listfile_path = '../data/train/train_listfile.csv'\n",
    "val_listfile_path = '../data/train/val_listfile.csv'\n",
    "test_listfile_path = '../data/test/test_listfile.csv'\n",
    "\n",
    "device = 'cuda' if torch.cuda.is_available() else 'cpu'\n",
    "bert_path = \"../BERT_model/clinicalbert\""
   ]
  },
  {
   "cell_type": "code",
   "execution_count": 3,
   "id": "f6629ecd",
   "metadata": {},
   "outputs": [],
   "source": [
    "# 固定随机种子, 保证可复现性\n",
    "def same_seed(seed = 42): \n",
    "    '''Fixes random number generator seeds for reproducibility.'''\n",
    "    torch.backends.cudnn.deterministic = True\n",
    "    torch.backends.cudnn.benchmark = False\n",
    "    np.random.seed(seed)\n",
    "    torch.manual_seed(seed)\n",
    "    if torch.cuda.is_available():\n",
    "        torch.cuda.manual_seed_all(seed)\n",
    "same_seed(seed = 42)"
   ]
  },
  {
   "cell_type": "markdown",
   "id": "f849f031",
   "metadata": {},
   "source": [
    "# 构造数据集"
   ]
  },
  {
   "cell_type": "code",
   "execution_count": null,
   "id": "7a72d169",
   "metadata": {},
   "outputs": [],
   "source": [
    "# 一次性加载到内存的版本\n",
    "\n",
    "class MIMICDataset(Dataset):\n",
    "    def __init__(self, listfile_path, mode='train', seq_len=49):\n",
    "        self.seq_len = seq_len\n",
    "        df = pd.read_csv(listfile_path)\n",
    "\n",
    "        # 提取字段\n",
    "        note_fname = df['notes'].tolist()\n",
    "        timeseries_fname = df['stay'].tolist()\n",
    "        label = df['y_true'].astype(float).tolist()\n",
    "\n",
    "        subject_ids = [name.split('_')[0] for name in note_fname]\n",
    "        icustay_ids = [name.split('_')[-1].split('.')[0] for name in timeseries_fname]\n",
    "\n",
    "        df['subject_id'] = subject_ids\n",
    "        df['icustay_id'] = icustay_ids\n",
    "        df['note_embeddings_path'] = './embedding/' + df['subject_id'] + '_' + df['icustay_id'] + '.pt'\n",
    "        df['timeseries_path'] = '../data/AKI/' + mode + '/' + df['stay']\n",
    "\n",
    "        # 缓存所有数据到内存\n",
    "        self.timeseries_tensors = []\n",
    "        self.note_embeddings = []\n",
    "        self.labels = []\n",
    "\n",
    "        for i in range(len(df)):\n",
    "            # 加载结构化时间序列并 pad 到 seq_len\n",
    "            ts_path = df.loc[i, 'timeseries_path']\n",
    "            ts_df = pd.read_csv(ts_path)\n",
    "            ts_tensor = torch.tensor(ts_df.values, dtype=torch.float)\n",
    "\n",
    "            if ts_tensor.size(0) < self.seq_len:\n",
    "                pad_len = self.seq_len - ts_tensor.size(0)\n",
    "                ts_tensor = F.pad(ts_tensor, pad=(0, 0, 0, pad_len), value=0)\n",
    "            else:\n",
    "                ts_tensor = ts_tensor[:self.seq_len, :]\n",
    "\n",
    "            self.timeseries_tensors.append(ts_tensor)\n",
    "\n",
    "            # 加载 note embedding 并展平\n",
    "            note_path = df.loc[i, 'note_embeddings_path']\n",
    "            note_tensor = torch.load(note_path).view(-1)\n",
    "            self.note_embeddings.append(note_tensor)\n",
    "\n",
    "            # 加载标签\n",
    "            self.labels.append(label[i])\n",
    "\n",
    "        print(f\"[MIMICDataset] Loaded {len(self.labels)} samples into memory.\")\n",
    "\n",
    "    def __len__(self):\n",
    "        return len(self.labels)\n",
    "\n",
    "    def __getitem__(self, idx):\n",
    "        return (\n",
    "            self.timeseries_tensors[idx],   # [49, F]\n",
    "            self.note_embeddings[idx],      # [768] or [1, 768]\n",
    "            torch.tensor(self.labels[idx], dtype=torch.float)\n",
    "        )"
   ]
  },
  {
   "cell_type": "code",
   "execution_count": null,
   "id": "50487bc8",
   "metadata": {},
   "outputs": [],
   "source": [
    "# 暂时只把路径加载到内存，然后训练时会调用__getitem__加载数据\n",
    "\n",
    "# class MIMICDataset(Dataset):\n",
    "#     def __init__(self, listfile_path, mode = 'train'):\n",
    "#         df = pd.read_csv(listfile_path)\n",
    "#         # 拆分列\n",
    "#         note_fname = df['notes'].tolist()\n",
    "#         timeseries_fname = df['stay'].tolist()\n",
    "#         label = df['y_true'].astype(float).tolist()\n",
    "\n",
    "#         # 提取 ID\n",
    "#         subject_ids = [name.split('_')[0] for name in note_fname]\n",
    "#         icustay_ids = [name.split('_')[-1].split('.')[0] for name in timeseries_fname]\n",
    "\n",
    "#         df['subject_id'] = subject_ids\n",
    "#         df['icustay_id'] = icustay_ids\n",
    "#         df['note_embeddings_path'] = './embedding/' + df['subject_id'].astype(str) + '_' + df['icustay_id'].astype(str) + '.pt'\n",
    "#         df['timeseries_path'] = '../data/AKI/' + mode + '/' + df['stay']\n",
    "\n",
    "#         self.timeseries_path = df['timeseries_path'].tolist()\n",
    "#         self.note_embeddings_path = df['note_embeddings_path'].tolist()\n",
    "#         self.labels = label\n",
    "\n",
    "#     def __len__(self):\n",
    "#         return len(self.labels)\n",
    "\n",
    "#     def __getitem__(self, idx):\n",
    "#         timeseries_df = pd.read_csv(self.timeseries_path[idx])\n",
    "#         timeseries_tensor = torch.tensor(timeseries_df.values, dtype=torch.float)\n",
    "\n",
    "#         T = 49\n",
    "#         if timeseries_tensor.size(0) < T:\n",
    "#             pad_rows = T - timeseries_tensor.size(0)\n",
    "#             # pad=(left, right, top, bottom) in 2D → (0, 0, 0, pad_rows)\n",
    "#             timeseries_tensor = F.pad(timeseries_tensor, pad=(0, 0, 0, pad_rows), mode='constant', value=0)\n",
    "#         else:\n",
    "#             timeseries_tensor = timeseries_tensor[:T, :]\n",
    "\n",
    "\n",
    "#         note_embedding = torch.load(self.note_embeddings_path[idx])\n",
    "#         note_embedding = note_embedding.view(-1) \n",
    "            \n",
    "#         label = self.labels[idx]\n",
    "#         return timeseries_tensor, note_embedding, label"
   ]
  },
  {
   "cell_type": "markdown",
   "id": "64b78471",
   "metadata": {},
   "source": [
    "# 定义模型"
   ]
  },
  {
   "cell_type": "code",
   "execution_count": 14,
   "id": "442519e5",
   "metadata": {},
   "outputs": [],
   "source": [
    "class AttentionPooling(nn.Module):\n",
    "    def __init__(self, d_model):\n",
    "        super().__init__()\n",
    "        self.attention_vector = nn.Parameter(torch.randn(d_model))  # [d_model]\n",
    "\n",
    "    def forward(self, x):\n",
    "        \"\"\"\n",
    "        x: [B, T, d_model]\n",
    "        return: [B, d_model]\n",
    "        \"\"\"\n",
    "        # [B, T]\n",
    "        attention_weights = torch.matmul(x, self.attention_vector)\n",
    "        attention_weights = F.softmax(attention_weights, dim=1)  # [B, T]\n",
    "\n",
    "        # [B, d_model]\n",
    "        pooled = torch.sum(x * attention_weights.unsqueeze(-1), dim=1)\n",
    "        return pooled\n",
    "\n",
    "\n",
    "class StructuredTransformerEncoder(nn.Module):\n",
    "    def __init__(self, input_dim, d_model=128, nhead=4, num_layers=2, dropout=0.1):\n",
    "        super().__init__()\n",
    "        self.input_proj = nn.Linear(input_dim, d_model)\n",
    "        self.positional_encoding = nn.Parameter(torch.randn(1, 512, d_model))\n",
    "\n",
    "        encoder_layer = nn.TransformerEncoderLayer(\n",
    "            d_model=d_model,\n",
    "            nhead=nhead,\n",
    "            dropout=dropout,\n",
    "            batch_first=True\n",
    "        )\n",
    "        self.transformer_encoder = nn.TransformerEncoder(encoder_layer, num_layers=num_layers)\n",
    "        self.attn_pooling = AttentionPooling(d_model)  # 返回一个 [B, d_model] 表示向量\n",
    "\n",
    "    def forward(self, x):  # x: [B, T, F]\n",
    "        B, T, F = x.shape\n",
    "        x = self.input_proj(x) + self.positional_encoding[:, :T, :]  # [B, T, d_model]\n",
    "        x = self.transformer_encoder(x)  # [B, T, d_model]\n",
    "        pooled = self.attn_pooling(x)    # [B, d_model]\n",
    "        return pooled  # 只返回一个特征向量\n",
    "\n",
    "class StructuredNoteFusionClassifier(nn.Module):\n",
    "    def __init__(self,\n",
    "                 input_dim,            # 结构化输入的特征数\n",
    "                 d_model=128,          # transformer 编码维度\n",
    "                 note_hidden_dim=64,  # note 嵌入压缩后维度\n",
    "                 nhead=4,\n",
    "                 num_layers=2,\n",
    "                 dropout=0.1):\n",
    "        super().__init__()\n",
    "\n",
    "        # 结构化时间序列编码器（输出 [B, d_model]）\n",
    "        self.structured_encoder = StructuredTransformerEncoder(\n",
    "            input_dim=input_dim,\n",
    "            d_model=d_model,\n",
    "            nhead=nhead,\n",
    "            num_layers=num_layers,\n",
    "            dropout=dropout\n",
    "        ).to(device)\n",
    "\n",
    "        # note embedding 映射层: [B, 768] -> [B, note_hidden_dim]\n",
    "        self.note_proj = nn.Linear(768, note_hidden_dim)\n",
    "\n",
    "        # 对结构化特征再做一个线性映射（维度不变，允许模型学习调整）\n",
    "        self.struct_proj = nn.Linear(d_model, d_model)\n",
    "\n",
    "        # 融合后特征：[B, d_model + note_hidden_dim] -> 分类\n",
    "        self.classifier = nn.Sequential(\n",
    "            nn.Linear(d_model + note_hidden_dim, d_model),\n",
    "            nn.ReLU(),\n",
    "            nn.Dropout(dropout),\n",
    "            nn.Linear(d_model, 1)\n",
    "        )\n",
    "\n",
    "    def forward(self, timeseries_x, note_embedding):\n",
    "        \"\"\"\n",
    "        timeseries_x: [B, T, F]\n",
    "        note_embedding: [B, 768]\n",
    "        \"\"\"\n",
    "        struct_feat = self.structured_encoder(timeseries_x)         # [B, d_model]\n",
    "        struct_feat = self.struct_proj(struct_feat)                 # [B, d_model]\n",
    "\n",
    "        note_feat = self.note_proj(note_embedding)                  # [B, note_hidden_dim]\n",
    "\n",
    "        fused = torch.cat([struct_feat, note_feat], dim=-1)         # [B, d_model + note_hidden_dim]\n",
    "        logits = self.classifier(fused).squeeze(-1)                 # [B]\n",
    "        return logits\n"
   ]
  },
  {
   "cell_type": "markdown",
   "id": "6956ccf4",
   "metadata": {},
   "source": [
    "# 加载数据训练模型"
   ]
  },
  {
   "cell_type": "code",
   "execution_count": 6,
   "id": "74ce9183",
   "metadata": {},
   "outputs": [
    {
     "name": "stdout",
     "output_type": "stream",
     "text": [
      "[MIMICDataset] Loaded 37150 samples into memory.\n",
      "[MIMICDataset] Loaded 4656 samples into memory.\n"
     ]
    }
   ],
   "source": [
    "train_dataset = MIMICDataset(train_listfile_path, mode='train')\n",
    "val_dataset = MIMICDataset(val_listfile_path, mode='train')"
   ]
  },
  {
   "cell_type": "code",
   "execution_count": 7,
   "id": "c9cde949",
   "metadata": {},
   "outputs": [],
   "source": [
    "train_dataloader = DataLoader(train_dataset, batch_size=128, shuffle=True, num_workers=0, drop_last=True)\n",
    "val_dataloader = DataLoader(val_dataset, batch_size=128, shuffle=False, num_workers=0, drop_last=True)"
   ]
  },
  {
   "cell_type": "code",
   "execution_count": 21,
   "id": "9a1e731a",
   "metadata": {},
   "outputs": [],
   "source": [
    "def train_model(model, train_dataloader, val_dataloader, num_epochs=100, lr=1e-4, save_path='./saved_model/best_model.pth'):\n",
    "    model = model.to(device)\n",
    "    criterion = nn.BCEWithLogitsLoss()\n",
    "    optimizer = torch.optim.AdamW(model.parameters(), lr=lr)\n",
    "    os.makedirs(os.path.dirname(save_path), exist_ok=True)\n",
    "\n",
    "    best_auc = 0.0\n",
    "    early_stop_counter = 0\n",
    "    early_stop_patience = 20\n",
    "\n",
    "    history = {\n",
    "        \"train_loss\": [],\n",
    "        \"val_loss\": [],\n",
    "        \"train_acc\": [],\n",
    "        \"val_acc\": []\n",
    "    }\n",
    "\n",
    "    for epoch in range(num_epochs):\n",
    "        print(f\"\\nEpoch {epoch + 1}/{num_epochs}\")\n",
    "\n",
    "        # ======== Training ========\n",
    "        model.train()\n",
    "        train_preds, train_labels, train_losses = [], [], []\n",
    "        pbar = tqdm(train_dataloader, desc='Training')\n",
    "\n",
    "        for timeseries, note_embeddings, label in pbar:\n",
    "            timeseries = timeseries.to(device)\n",
    "            note_embeddings = note_embeddings.to(device)\n",
    "            label = label.to(device)\n",
    "\n",
    "            logits = model(timeseries, note_embeddings)\n",
    "            loss = criterion(logits, label)\n",
    "\n",
    "            optimizer.zero_grad()\n",
    "            loss.backward()\n",
    "            optimizer.step()\n",
    "\n",
    "            train_losses.append(loss.item())\n",
    "            preds = torch.sigmoid(logits).detach().cpu().numpy()\n",
    "            train_preds.extend(preds)\n",
    "            train_labels.extend(label.cpu().numpy())\n",
    "\n",
    "            try:\n",
    "                auc = roc_auc_score(train_labels, train_preds)\n",
    "            except:\n",
    "                auc = 0.0\n",
    "            acc = accuracy_score(train_labels, np.array(train_preds) >= 0.5)\n",
    "            pbar.set_postfix(loss=loss.item(), acc=f\"{acc:.4f}\", auc=f\"{auc:.4f}\")\n",
    "\n",
    "        train_loss = np.mean(train_losses)\n",
    "        train_acc = accuracy_score(train_labels, np.array(train_preds) >= 0.5)\n",
    "        train_auc = roc_auc_score(train_labels, train_preds)\n",
    "\n",
    "        # ======== Validation ========\n",
    "        model.eval()\n",
    "        val_preds, val_labels, val_losses = [], [], []\n",
    "        pbar = tqdm(val_dataloader, desc='Validation')\n",
    "\n",
    "        with torch.no_grad():\n",
    "            for timeseries, note_embeddings, label in pbar:\n",
    "                timeseries = timeseries.to(device)\n",
    "                note_embeddings = note_embeddings.to(device)\n",
    "                label = label.to(device)\n",
    "\n",
    "                logits = model(timeseries, note_embeddings)\n",
    "                loss = criterion(logits, label)\n",
    "\n",
    "                val_losses.append(loss.item())\n",
    "                preds = torch.sigmoid(logits).cpu().numpy()\n",
    "                val_preds.extend(preds)\n",
    "                val_labels.extend(label.cpu().numpy())\n",
    "\n",
    "                try:\n",
    "                    auc = roc_auc_score(val_labels, val_preds)\n",
    "                except:\n",
    "                    auc = 0.0\n",
    "                acc = accuracy_score(val_labels, np.array(val_preds) >= 0.5)\n",
    "                pbar.set_postfix(loss=loss.item(), acc=f\"{acc:.4f}\", auc=f\"{auc:.4f}\")\n",
    "\n",
    "        val_loss = np.mean(val_losses)\n",
    "        val_acc = accuracy_score(val_labels, np.array(val_preds) >= 0.5)\n",
    "        val_auc = roc_auc_score(val_labels, val_preds)\n",
    "\n",
    "        # ======== Logging & Early Stopping ========\n",
    "        history[\"train_loss\"].append(train_loss)\n",
    "        history[\"val_loss\"].append(val_loss)\n",
    "        history[\"train_acc\"].append(train_acc)\n",
    "        history[\"val_acc\"].append(val_acc)\n",
    "\n",
    "        print(f\"[Epoch {epoch+1}] Train Loss: {train_loss:.4f}, Acc: {train_acc:.4f}, AUC: {train_auc:.4f}\")\n",
    "        print(f\"[Epoch {epoch+1}] Val   Loss: {val_loss:.4f}, Acc: {val_acc:.4f}, AUC: {val_auc:.4f}\")\n",
    "\n",
    "        if val_auc > best_auc:\n",
    "            best_auc = val_auc\n",
    "            early_stop_counter = 0\n",
    "            torch.save(model.state_dict(), save_path)\n",
    "            print(f\">>> Best model updated and saved to {save_path}\")\n",
    "        else:\n",
    "            early_stop_counter += 1\n",
    "            if early_stop_counter >= early_stop_patience:\n",
    "                print(f\">>> Early stopping: No improvement in {early_stop_patience} epochs.\")\n",
    "                break\n",
    "\n",
    "    return history\n"
   ]
  },
  {
   "cell_type": "code",
   "execution_count": 22,
   "id": "74f3a007",
   "metadata": {},
   "outputs": [
    {
     "name": "stdout",
     "output_type": "stream",
     "text": [
      "\n",
      "Epoch 1/150\n"
     ]
    },
    {
     "name": "stderr",
     "output_type": "stream",
     "text": [
      "Training: 100%|██████████| 290/290 [00:07<00:00, 36.54it/s, acc=0.6897, auc=0.6790, loss=0.557]\n",
      "Validation: 100%|██████████| 36/36 [00:00<00:00, 98.34it/s, acc=0.7374, auc=0.7685, loss=0.575] \n"
     ]
    },
    {
     "name": "stdout",
     "output_type": "stream",
     "text": [
      "[Epoch 1] Train Loss: 0.5906, Acc: 0.6897, AUC: 0.6790\n",
      "[Epoch 1] Val   Loss: 0.5275, Acc: 0.7374, AUC: 0.7685\n",
      ">>> Best model updated and saved to ./saved_model/best_model.pth\n",
      "\n",
      "Epoch 2/150\n"
     ]
    },
    {
     "name": "stderr",
     "output_type": "stream",
     "text": [
      "Training: 100%|██████████| 290/290 [00:07<00:00, 39.95it/s, acc=0.7226, auc=0.7568, loss=0.487]\n",
      "Validation: 100%|██████████| 36/36 [00:00<00:00, 102.60it/s, acc=0.7467, auc=0.7821, loss=0.557]\n"
     ]
    },
    {
     "name": "stdout",
     "output_type": "stream",
     "text": [
      "[Epoch 2] Train Loss: 0.5427, Acc: 0.7226, AUC: 0.7568\n",
      "[Epoch 2] Val   Loss: 0.5164, Acc: 0.7467, AUC: 0.7821\n",
      ">>> Best model updated and saved to ./saved_model/best_model.pth\n",
      "\n",
      "Epoch 3/150\n"
     ]
    },
    {
     "name": "stderr",
     "output_type": "stream",
     "text": [
      "Training: 100%|██████████| 290/290 [00:07<00:00, 39.43it/s, acc=0.7301, auc=0.7701, loss=0.535]\n",
      "Validation: 100%|██████████| 36/36 [00:00<00:00, 78.42it/s, acc=0.7296, auc=0.7909, loss=0.562] \n"
     ]
    },
    {
     "name": "stdout",
     "output_type": "stream",
     "text": [
      "[Epoch 3] Train Loss: 0.5315, Acc: 0.7301, AUC: 0.7701\n",
      "[Epoch 3] Val   Loss: 0.5261, Acc: 0.7296, AUC: 0.7909\n",
      ">>> Best model updated and saved to ./saved_model/best_model.pth\n",
      "\n",
      "Epoch 4/150\n"
     ]
    },
    {
     "name": "stderr",
     "output_type": "stream",
     "text": [
      "Training: 100%|██████████| 290/290 [00:07<00:00, 38.03it/s, acc=0.7332, auc=0.7784, loss=0.544]\n",
      "Validation: 100%|██████████| 36/36 [00:00<00:00, 94.84it/s, acc=0.7483, auc=0.7932, loss=0.535] \n"
     ]
    },
    {
     "name": "stdout",
     "output_type": "stream",
     "text": [
      "[Epoch 4] Train Loss: 0.5244, Acc: 0.7332, AUC: 0.7784\n",
      "[Epoch 4] Val   Loss: 0.5068, Acc: 0.7483, AUC: 0.7932\n",
      ">>> Best model updated and saved to ./saved_model/best_model.pth\n",
      "\n",
      "Epoch 5/150\n"
     ]
    },
    {
     "name": "stderr",
     "output_type": "stream",
     "text": [
      "Training: 100%|██████████| 290/290 [00:07<00:00, 39.28it/s, acc=0.7356, auc=0.7828, loss=0.539]\n",
      "Validation: 100%|██████████| 36/36 [00:00<00:00, 104.31it/s, acc=0.7459, auc=0.8001, loss=0.513]\n"
     ]
    },
    {
     "name": "stdout",
     "output_type": "stream",
     "text": [
      "[Epoch 5] Train Loss: 0.5203, Acc: 0.7356, AUC: 0.7828\n",
      "[Epoch 5] Val   Loss: 0.4982, Acc: 0.7459, AUC: 0.8001\n",
      ">>> Best model updated and saved to ./saved_model/best_model.pth\n",
      "\n",
      "Epoch 6/150\n"
     ]
    },
    {
     "name": "stderr",
     "output_type": "stream",
     "text": [
      "Training: 100%|██████████| 290/290 [00:07<00:00, 39.69it/s, acc=0.7407, auc=0.7885, loss=0.54] \n",
      "Validation: 100%|██████████| 36/36 [00:00<00:00, 101.13it/s, acc=0.7502, auc=0.8041, loss=0.512]\n"
     ]
    },
    {
     "name": "stdout",
     "output_type": "stream",
     "text": [
      "[Epoch 6] Train Loss: 0.5151, Acc: 0.7407, AUC: 0.7885\n",
      "[Epoch 6] Val   Loss: 0.4985, Acc: 0.7502, AUC: 0.8041\n",
      ">>> Best model updated and saved to ./saved_model/best_model.pth\n",
      "\n",
      "Epoch 7/150\n"
     ]
    },
    {
     "name": "stderr",
     "output_type": "stream",
     "text": [
      "Training: 100%|██████████| 290/290 [00:07<00:00, 40.21it/s, acc=0.7439, auc=0.7909, loss=0.513]\n",
      "Validation: 100%|██████████| 36/36 [00:00<00:00, 103.54it/s, acc=0.7550, auc=0.8052, loss=0.5]  \n"
     ]
    },
    {
     "name": "stdout",
     "output_type": "stream",
     "text": [
      "[Epoch 7] Train Loss: 0.5128, Acc: 0.7439, AUC: 0.7909\n",
      "[Epoch 7] Val   Loss: 0.4957, Acc: 0.7550, AUC: 0.8052\n",
      ">>> Best model updated and saved to ./saved_model/best_model.pth\n",
      "\n",
      "Epoch 8/150\n"
     ]
    },
    {
     "name": "stderr",
     "output_type": "stream",
     "text": [
      "Training: 100%|██████████| 290/290 [00:07<00:00, 41.08it/s, acc=0.7449, auc=0.7941, loss=0.511]\n",
      "Validation: 100%|██████████| 36/36 [00:00<00:00, 105.32it/s, acc=0.7409, auc=0.8037, loss=0.531]\n"
     ]
    },
    {
     "name": "stdout",
     "output_type": "stream",
     "text": [
      "[Epoch 8] Train Loss: 0.5096, Acc: 0.7449, AUC: 0.7941\n",
      "[Epoch 8] Val   Loss: 0.5095, Acc: 0.7409, AUC: 0.8037\n",
      "\n",
      "Epoch 9/150\n"
     ]
    },
    {
     "name": "stderr",
     "output_type": "stream",
     "text": [
      "Training: 100%|██████████| 290/290 [00:07<00:00, 40.11it/s, acc=0.7511, auc=0.8023, loss=0.47] \n",
      "Validation: 100%|██████████| 36/36 [00:00<00:00, 101.01it/s, acc=0.7695, auc=0.8264, loss=0.499]\n"
     ]
    },
    {
     "name": "stdout",
     "output_type": "stream",
     "text": [
      "[Epoch 9] Train Loss: 0.5017, Acc: 0.7511, AUC: 0.8023\n",
      "[Epoch 9] Val   Loss: 0.4756, Acc: 0.7695, AUC: 0.8264\n",
      ">>> Best model updated and saved to ./saved_model/best_model.pth\n",
      "\n",
      "Epoch 10/150\n"
     ]
    },
    {
     "name": "stderr",
     "output_type": "stream",
     "text": [
      "Training: 100%|██████████| 290/290 [00:07<00:00, 37.35it/s, acc=0.7682, auc=0.8222, loss=0.512]\n",
      "Validation: 100%|██████████| 36/36 [00:00<00:00, 111.40it/s, acc=0.8006, auc=0.8635, loss=0.45] \n"
     ]
    },
    {
     "name": "stdout",
     "output_type": "stream",
     "text": [
      "[Epoch 10] Train Loss: 0.4814, Acc: 0.7682, AUC: 0.8222\n",
      "[Epoch 10] Val   Loss: 0.4357, Acc: 0.8006, AUC: 0.8635\n",
      ">>> Best model updated and saved to ./saved_model/best_model.pth\n",
      "\n",
      "Epoch 11/150\n"
     ]
    },
    {
     "name": "stderr",
     "output_type": "stream",
     "text": [
      "Training: 100%|██████████| 290/290 [00:06<00:00, 42.62it/s, acc=0.7919, auc=0.8550, loss=0.403]\n",
      "Validation: 100%|██████████| 36/36 [00:00<00:00, 102.66it/s, acc=0.8084, auc=0.8834, loss=0.429]\n"
     ]
    },
    {
     "name": "stdout",
     "output_type": "stream",
     "text": [
      "[Epoch 11] Train Loss: 0.4420, Acc: 0.7919, AUC: 0.8550\n",
      "[Epoch 11] Val   Loss: 0.4051, Acc: 0.8084, AUC: 0.8834\n",
      ">>> Best model updated and saved to ./saved_model/best_model.pth\n",
      "\n",
      "Epoch 12/150\n"
     ]
    },
    {
     "name": "stderr",
     "output_type": "stream",
     "text": [
      "Training: 100%|██████████| 290/290 [00:07<00:00, 40.97it/s, acc=0.7978, auc=0.8658, loss=0.42] \n",
      "Validation: 100%|██████████| 36/36 [00:00<00:00, 100.03it/s, acc=0.7969, auc=0.8780, loss=0.452]\n"
     ]
    },
    {
     "name": "stdout",
     "output_type": "stream",
     "text": [
      "[Epoch 12] Train Loss: 0.4272, Acc: 0.7978, AUC: 0.8658\n",
      "[Epoch 12] Val   Loss: 0.4325, Acc: 0.7969, AUC: 0.8780\n",
      "\n",
      "Epoch 13/150\n"
     ]
    },
    {
     "name": "stderr",
     "output_type": "stream",
     "text": [
      "Training: 100%|██████████| 290/290 [00:06<00:00, 42.87it/s, acc=0.8009, auc=0.8713, loss=0.47] \n",
      "Validation: 100%|██████████| 36/36 [00:00<00:00, 114.39it/s, acc=0.8175, auc=0.8908, loss=0.401]\n"
     ]
    },
    {
     "name": "stdout",
     "output_type": "stream",
     "text": [
      "[Epoch 13] Train Loss: 0.4190, Acc: 0.8009, AUC: 0.8713\n",
      "[Epoch 13] Val   Loss: 0.3869, Acc: 0.8175, AUC: 0.8908\n",
      ">>> Best model updated and saved to ./saved_model/best_model.pth\n",
      "\n",
      "Epoch 14/150\n"
     ]
    },
    {
     "name": "stderr",
     "output_type": "stream",
     "text": [
      "Training: 100%|██████████| 290/290 [00:06<00:00, 42.96it/s, acc=0.8083, auc=0.8802, loss=0.465]\n",
      "Validation: 100%|██████████| 36/36 [00:00<00:00, 114.49it/s, acc=0.8136, auc=0.8879, loss=0.422]\n"
     ]
    },
    {
     "name": "stdout",
     "output_type": "stream",
     "text": [
      "[Epoch 14] Train Loss: 0.4059, Acc: 0.8083, AUC: 0.8802\n",
      "[Epoch 14] Val   Loss: 0.3916, Acc: 0.8136, AUC: 0.8879\n",
      "\n",
      "Epoch 15/150\n"
     ]
    },
    {
     "name": "stderr",
     "output_type": "stream",
     "text": [
      "Training: 100%|██████████| 290/290 [00:06<00:00, 44.61it/s, acc=0.8116, auc=0.8816, loss=0.379]\n",
      "Validation: 100%|██████████| 36/36 [00:00<00:00, 116.41it/s, acc=0.8207, auc=0.8952, loss=0.399]\n"
     ]
    },
    {
     "name": "stdout",
     "output_type": "stream",
     "text": [
      "[Epoch 15] Train Loss: 0.4034, Acc: 0.8116, AUC: 0.8816\n",
      "[Epoch 15] Val   Loss: 0.3808, Acc: 0.8207, AUC: 0.8952\n",
      ">>> Best model updated and saved to ./saved_model/best_model.pth\n",
      "\n",
      "Epoch 16/150\n"
     ]
    },
    {
     "name": "stderr",
     "output_type": "stream",
     "text": [
      "Training: 100%|██████████| 290/290 [00:06<00:00, 44.62it/s, acc=0.8124, auc=0.8821, loss=0.373]\n",
      "Validation: 100%|██████████| 36/36 [00:00<00:00, 105.48it/s, acc=0.8192, auc=0.8965, loss=0.395]\n"
     ]
    },
    {
     "name": "stdout",
     "output_type": "stream",
     "text": [
      "[Epoch 16] Train Loss: 0.4026, Acc: 0.8124, AUC: 0.8821\n",
      "[Epoch 16] Val   Loss: 0.3797, Acc: 0.8192, AUC: 0.8965\n",
      ">>> Best model updated and saved to ./saved_model/best_model.pth\n",
      "\n",
      "Epoch 17/150\n"
     ]
    },
    {
     "name": "stderr",
     "output_type": "stream",
     "text": [
      "Training: 100%|██████████| 290/290 [00:06<00:00, 42.88it/s, acc=0.8171, auc=0.8871, loss=0.456]\n",
      "Validation: 100%|██████████| 36/36 [00:00<00:00, 105.75it/s, acc=0.8158, auc=0.8897, loss=0.413]\n"
     ]
    },
    {
     "name": "stdout",
     "output_type": "stream",
     "text": [
      "[Epoch 17] Train Loss: 0.3946, Acc: 0.8171, AUC: 0.8871\n",
      "[Epoch 17] Val   Loss: 0.3948, Acc: 0.8158, AUC: 0.8897\n",
      "\n",
      "Epoch 18/150\n"
     ]
    },
    {
     "name": "stderr",
     "output_type": "stream",
     "text": [
      "Training: 100%|██████████| 290/290 [00:06<00:00, 44.26it/s, acc=0.8180, auc=0.8900, loss=0.495]\n",
      "Validation: 100%|██████████| 36/36 [00:00<00:00, 113.13it/s, acc=0.8240, auc=0.8993, loss=0.391]\n"
     ]
    },
    {
     "name": "stdout",
     "output_type": "stream",
     "text": [
      "[Epoch 18] Train Loss: 0.3896, Acc: 0.8180, AUC: 0.8900\n",
      "[Epoch 18] Val   Loss: 0.3724, Acc: 0.8240, AUC: 0.8993\n",
      ">>> Best model updated and saved to ./saved_model/best_model.pth\n",
      "\n",
      "Epoch 19/150\n"
     ]
    },
    {
     "name": "stderr",
     "output_type": "stream",
     "text": [
      "Training: 100%|██████████| 290/290 [00:06<00:00, 43.77it/s, acc=0.8168, auc=0.8900, loss=0.411]\n",
      "Validation: 100%|██████████| 36/36 [00:00<00:00, 109.38it/s, acc=0.8205, auc=0.8999, loss=0.419]\n"
     ]
    },
    {
     "name": "stdout",
     "output_type": "stream",
     "text": [
      "[Epoch 19] Train Loss: 0.3894, Acc: 0.8168, AUC: 0.8900\n",
      "[Epoch 19] Val   Loss: 0.3790, Acc: 0.8205, AUC: 0.8999\n",
      ">>> Best model updated and saved to ./saved_model/best_model.pth\n",
      "\n",
      "Epoch 20/150\n"
     ]
    },
    {
     "name": "stderr",
     "output_type": "stream",
     "text": [
      "Training: 100%|██████████| 290/290 [00:06<00:00, 43.89it/s, acc=0.8170, auc=0.8902, loss=0.319]\n",
      "Validation: 100%|██████████| 36/36 [00:00<00:00, 112.65it/s, acc=0.8207, auc=0.9012, loss=0.41] \n"
     ]
    },
    {
     "name": "stdout",
     "output_type": "stream",
     "text": [
      "[Epoch 20] Train Loss: 0.3890, Acc: 0.8170, AUC: 0.8902\n",
      "[Epoch 20] Val   Loss: 0.3722, Acc: 0.8207, AUC: 0.9012\n",
      ">>> Best model updated and saved to ./saved_model/best_model.pth\n",
      "\n",
      "Epoch 21/150\n"
     ]
    },
    {
     "name": "stderr",
     "output_type": "stream",
     "text": [
      "Training: 100%|██████████| 290/290 [00:06<00:00, 44.21it/s, acc=0.8187, auc=0.8916, loss=0.347]\n",
      "Validation: 100%|██████████| 36/36 [00:00<00:00, 114.52it/s, acc=0.8236, auc=0.8981, loss=0.403]\n"
     ]
    },
    {
     "name": "stdout",
     "output_type": "stream",
     "text": [
      "[Epoch 21] Train Loss: 0.3871, Acc: 0.8187, AUC: 0.8916\n",
      "[Epoch 21] Val   Loss: 0.3788, Acc: 0.8236, AUC: 0.8981\n",
      "\n",
      "Epoch 22/150\n"
     ]
    },
    {
     "name": "stderr",
     "output_type": "stream",
     "text": [
      "Training: 100%|██████████| 290/290 [00:06<00:00, 42.84it/s, acc=0.8222, auc=0.8946, loss=0.443]\n",
      "Validation: 100%|██████████| 36/36 [00:00<00:00, 110.60it/s, acc=0.8216, auc=0.8962, loss=0.402]\n"
     ]
    },
    {
     "name": "stdout",
     "output_type": "stream",
     "text": [
      "[Epoch 22] Train Loss: 0.3815, Acc: 0.8222, AUC: 0.8946\n",
      "[Epoch 22] Val   Loss: 0.3777, Acc: 0.8216, AUC: 0.8962\n",
      "\n",
      "Epoch 23/150\n"
     ]
    },
    {
     "name": "stderr",
     "output_type": "stream",
     "text": [
      "Training: 100%|██████████| 290/290 [00:07<00:00, 40.21it/s, acc=0.8213, auc=0.8940, loss=0.375]\n",
      "Validation: 100%|██████████| 36/36 [00:00<00:00, 86.69it/s, acc=0.8229, auc=0.8957, loss=0.388] \n"
     ]
    },
    {
     "name": "stdout",
     "output_type": "stream",
     "text": [
      "[Epoch 23] Train Loss: 0.3824, Acc: 0.8213, AUC: 0.8940\n",
      "[Epoch 23] Val   Loss: 0.3856, Acc: 0.8229, AUC: 0.8957\n",
      "\n",
      "Epoch 24/150\n"
     ]
    },
    {
     "name": "stderr",
     "output_type": "stream",
     "text": [
      "Training: 100%|██████████| 290/290 [00:07<00:00, 39.33it/s, acc=0.8211, auc=0.8938, loss=0.371]\n",
      "Validation: 100%|██████████| 36/36 [00:00<00:00, 89.38it/s, acc=0.8236, auc=0.9021, loss=0.394] \n"
     ]
    },
    {
     "name": "stdout",
     "output_type": "stream",
     "text": [
      "[Epoch 24] Train Loss: 0.3829, Acc: 0.8211, AUC: 0.8938\n",
      "[Epoch 24] Val   Loss: 0.3667, Acc: 0.8236, AUC: 0.9021\n",
      ">>> Best model updated and saved to ./saved_model/best_model.pth\n",
      "\n",
      "Epoch 25/150\n"
     ]
    },
    {
     "name": "stderr",
     "output_type": "stream",
     "text": [
      "Training: 100%|██████████| 290/290 [00:07<00:00, 38.52it/s, acc=0.8238, auc=0.8966, loss=0.428]\n",
      "Validation: 100%|██████████| 36/36 [00:00<00:00, 105.67it/s, acc=0.8275, auc=0.9043, loss=0.408]\n"
     ]
    },
    {
     "name": "stdout",
     "output_type": "stream",
     "text": [
      "[Epoch 25] Train Loss: 0.3780, Acc: 0.8238, AUC: 0.8966\n",
      "[Epoch 25] Val   Loss: 0.3658, Acc: 0.8275, AUC: 0.9043\n",
      ">>> Best model updated and saved to ./saved_model/best_model.pth\n",
      "\n",
      "Epoch 26/150\n"
     ]
    },
    {
     "name": "stderr",
     "output_type": "stream",
     "text": [
      "Training: 100%|██████████| 290/290 [00:06<00:00, 41.81it/s, acc=0.8237, auc=0.8981, loss=0.298]\n",
      "Validation: 100%|██████████| 36/36 [00:00<00:00, 105.34it/s, acc=0.8305, auc=0.9047, loss=0.41] \n"
     ]
    },
    {
     "name": "stdout",
     "output_type": "stream",
     "text": [
      "[Epoch 26] Train Loss: 0.3753, Acc: 0.8237, AUC: 0.8981\n",
      "[Epoch 26] Val   Loss: 0.3652, Acc: 0.8305, AUC: 0.9047\n",
      ">>> Best model updated and saved to ./saved_model/best_model.pth\n",
      "\n",
      "Epoch 27/150\n"
     ]
    },
    {
     "name": "stderr",
     "output_type": "stream",
     "text": [
      "Training: 100%|██████████| 290/290 [00:07<00:00, 40.09it/s, acc=0.8263, auc=0.8981, loss=0.432]\n",
      "Validation: 100%|██████████| 36/36 [00:00<00:00, 102.53it/s, acc=0.8186, auc=0.8973, loss=0.393]\n"
     ]
    },
    {
     "name": "stdout",
     "output_type": "stream",
     "text": [
      "[Epoch 27] Train Loss: 0.3756, Acc: 0.8263, AUC: 0.8981\n",
      "[Epoch 27] Val   Loss: 0.3862, Acc: 0.8186, AUC: 0.8973\n",
      "\n",
      "Epoch 28/150\n"
     ]
    },
    {
     "name": "stderr",
     "output_type": "stream",
     "text": [
      "Training: 100%|██████████| 290/290 [00:07<00:00, 38.95it/s, acc=0.8276, auc=0.9002, loss=0.388]\n",
      "Validation: 100%|██████████| 36/36 [00:00<00:00, 98.54it/s, acc=0.8312, auc=0.9048, loss=0.402] \n"
     ]
    },
    {
     "name": "stdout",
     "output_type": "stream",
     "text": [
      "[Epoch 28] Train Loss: 0.3716, Acc: 0.8276, AUC: 0.9002\n",
      "[Epoch 28] Val   Loss: 0.3635, Acc: 0.8312, AUC: 0.9048\n",
      ">>> Best model updated and saved to ./saved_model/best_model.pth\n",
      "\n",
      "Epoch 29/150\n"
     ]
    },
    {
     "name": "stderr",
     "output_type": "stream",
     "text": [
      "Training: 100%|██████████| 290/290 [00:07<00:00, 39.71it/s, acc=0.8252, auc=0.8997, loss=0.375]\n",
      "Validation: 100%|██████████| 36/36 [00:00<00:00, 103.78it/s, acc=0.8340, auc=0.9074, loss=0.387]\n"
     ]
    },
    {
     "name": "stdout",
     "output_type": "stream",
     "text": [
      "[Epoch 29] Train Loss: 0.3730, Acc: 0.8252, AUC: 0.8997\n",
      "[Epoch 29] Val   Loss: 0.3599, Acc: 0.8340, AUC: 0.9074\n",
      ">>> Best model updated and saved to ./saved_model/best_model.pth\n",
      "\n",
      "Epoch 30/150\n"
     ]
    },
    {
     "name": "stderr",
     "output_type": "stream",
     "text": [
      "Training: 100%|██████████| 290/290 [00:07<00:00, 40.92it/s, acc=0.8294, auc=0.9022, loss=0.411]\n",
      "Validation: 100%|██████████| 36/36 [00:00<00:00, 104.32it/s, acc=0.8290, auc=0.9061, loss=0.4]  \n"
     ]
    },
    {
     "name": "stdout",
     "output_type": "stream",
     "text": [
      "[Epoch 30] Train Loss: 0.3681, Acc: 0.8294, AUC: 0.9022\n",
      "[Epoch 30] Val   Loss: 0.3607, Acc: 0.8290, AUC: 0.9061\n",
      "\n",
      "Epoch 31/150\n"
     ]
    },
    {
     "name": "stderr",
     "output_type": "stream",
     "text": [
      "Training: 100%|██████████| 290/290 [00:07<00:00, 40.93it/s, acc=0.8275, auc=0.9023, loss=0.338]\n",
      "Validation: 100%|██████████| 36/36 [00:00<00:00, 100.33it/s, acc=0.8309, auc=0.9054, loss=0.411]\n"
     ]
    },
    {
     "name": "stdout",
     "output_type": "stream",
     "text": [
      "[Epoch 31] Train Loss: 0.3684, Acc: 0.8275, AUC: 0.9023\n",
      "[Epoch 31] Val   Loss: 0.3611, Acc: 0.8309, AUC: 0.9054\n",
      "\n",
      "Epoch 32/150\n"
     ]
    },
    {
     "name": "stderr",
     "output_type": "stream",
     "text": [
      "Training: 100%|██████████| 290/290 [00:07<00:00, 41.09it/s, acc=0.8285, auc=0.9026, loss=0.37] \n",
      "Validation: 100%|██████████| 36/36 [00:00<00:00, 98.41it/s, acc=0.8205, auc=0.9053, loss=0.405] \n"
     ]
    },
    {
     "name": "stdout",
     "output_type": "stream",
     "text": [
      "[Epoch 32] Train Loss: 0.3675, Acc: 0.8285, AUC: 0.9026\n",
      "[Epoch 32] Val   Loss: 0.3738, Acc: 0.8205, AUC: 0.9053\n",
      "\n",
      "Epoch 33/150\n"
     ]
    },
    {
     "name": "stderr",
     "output_type": "stream",
     "text": [
      "Training: 100%|██████████| 290/290 [00:06<00:00, 42.04it/s, acc=0.8315, auc=0.9033, loss=0.453]\n",
      "Validation: 100%|██████████| 36/36 [00:00<00:00, 108.11it/s, acc=0.8346, auc=0.9091, loss=0.377]\n"
     ]
    },
    {
     "name": "stdout",
     "output_type": "stream",
     "text": [
      "[Epoch 33] Train Loss: 0.3662, Acc: 0.8315, AUC: 0.9033\n",
      "[Epoch 33] Val   Loss: 0.3537, Acc: 0.8346, AUC: 0.9091\n",
      ">>> Best model updated and saved to ./saved_model/best_model.pth\n",
      "\n",
      "Epoch 34/150\n"
     ]
    },
    {
     "name": "stderr",
     "output_type": "stream",
     "text": [
      "Training: 100%|██████████| 290/290 [00:06<00:00, 41.84it/s, acc=0.8308, auc=0.9037, loss=0.427]\n",
      "Validation: 100%|██████████| 36/36 [00:00<00:00, 102.11it/s, acc=0.8088, auc=0.8911, loss=0.401]\n"
     ]
    },
    {
     "name": "stdout",
     "output_type": "stream",
     "text": [
      "[Epoch 34] Train Loss: 0.3653, Acc: 0.8308, AUC: 0.9037\n",
      "[Epoch 34] Val   Loss: 0.4029, Acc: 0.8088, AUC: 0.8911\n",
      "\n",
      "Epoch 35/150\n"
     ]
    },
    {
     "name": "stderr",
     "output_type": "stream",
     "text": [
      "Training: 100%|██████████| 290/290 [00:07<00:00, 39.72it/s, acc=0.8313, auc=0.9044, loss=0.406]\n",
      "Validation: 100%|██████████| 36/36 [00:00<00:00, 105.51it/s, acc=0.8301, auc=0.9058, loss=0.4]  \n"
     ]
    },
    {
     "name": "stdout",
     "output_type": "stream",
     "text": [
      "[Epoch 35] Train Loss: 0.3639, Acc: 0.8313, AUC: 0.9044\n",
      "[Epoch 35] Val   Loss: 0.3627, Acc: 0.8301, AUC: 0.9058\n",
      "\n",
      "Epoch 36/150\n"
     ]
    },
    {
     "name": "stderr",
     "output_type": "stream",
     "text": [
      "Training: 100%|██████████| 290/290 [00:07<00:00, 38.96it/s, acc=0.8323, auc=0.9067, loss=0.301]\n",
      "Validation: 100%|██████████| 36/36 [00:00<00:00, 102.86it/s, acc=0.8346, auc=0.9091, loss=0.386]\n"
     ]
    },
    {
     "name": "stdout",
     "output_type": "stream",
     "text": [
      "[Epoch 36] Train Loss: 0.3601, Acc: 0.8323, AUC: 0.9067\n",
      "[Epoch 36] Val   Loss: 0.3530, Acc: 0.8346, AUC: 0.9091\n",
      "\n",
      "Epoch 37/150\n"
     ]
    },
    {
     "name": "stderr",
     "output_type": "stream",
     "text": [
      "Training: 100%|██████████| 290/290 [00:07<00:00, 40.10it/s, acc=0.8336, auc=0.9070, loss=0.337]\n",
      "Validation: 100%|██████████| 36/36 [00:00<00:00, 97.28it/s, acc=0.8355, auc=0.9088, loss=0.359] \n"
     ]
    },
    {
     "name": "stdout",
     "output_type": "stream",
     "text": [
      "[Epoch 37] Train Loss: 0.3592, Acc: 0.8336, AUC: 0.9070\n",
      "[Epoch 37] Val   Loss: 0.3526, Acc: 0.8355, AUC: 0.9088\n",
      "\n",
      "Epoch 38/150\n"
     ]
    },
    {
     "name": "stderr",
     "output_type": "stream",
     "text": [
      "Training: 100%|██████████| 290/290 [00:07<00:00, 39.58it/s, acc=0.8325, auc=0.9063, loss=0.435]\n",
      "Validation: 100%|██████████| 36/36 [00:00<00:00, 102.53it/s, acc=0.8303, auc=0.9110, loss=0.369]\n"
     ]
    },
    {
     "name": "stdout",
     "output_type": "stream",
     "text": [
      "[Epoch 38] Train Loss: 0.3607, Acc: 0.8325, AUC: 0.9063\n",
      "[Epoch 38] Val   Loss: 0.3512, Acc: 0.8303, AUC: 0.9110\n",
      ">>> Best model updated and saved to ./saved_model/best_model.pth\n",
      "\n",
      "Epoch 39/150\n"
     ]
    },
    {
     "name": "stderr",
     "output_type": "stream",
     "text": [
      "Training: 100%|██████████| 290/290 [00:07<00:00, 40.76it/s, acc=0.8320, auc=0.9075, loss=0.373]\n",
      "Validation: 100%|██████████| 36/36 [00:00<00:00, 104.83it/s, acc=0.8377, auc=0.9082, loss=0.403]\n"
     ]
    },
    {
     "name": "stdout",
     "output_type": "stream",
     "text": [
      "[Epoch 39] Train Loss: 0.3577, Acc: 0.8320, AUC: 0.9075\n",
      "[Epoch 39] Val   Loss: 0.3572, Acc: 0.8377, AUC: 0.9082\n",
      "\n",
      "Epoch 40/150\n"
     ]
    },
    {
     "name": "stderr",
     "output_type": "stream",
     "text": [
      "Training: 100%|██████████| 290/290 [00:07<00:00, 40.17it/s, acc=0.8336, auc=0.9087, loss=0.327]\n",
      "Validation: 100%|██████████| 36/36 [00:00<00:00, 102.21it/s, acc=0.8273, auc=0.9070, loss=0.404]\n"
     ]
    },
    {
     "name": "stdout",
     "output_type": "stream",
     "text": [
      "[Epoch 40] Train Loss: 0.3560, Acc: 0.8336, AUC: 0.9087\n",
      "[Epoch 40] Val   Loss: 0.3730, Acc: 0.8273, AUC: 0.9070\n",
      "\n",
      "Epoch 41/150\n"
     ]
    },
    {
     "name": "stderr",
     "output_type": "stream",
     "text": [
      "Training: 100%|██████████| 290/290 [00:07<00:00, 40.76it/s, acc=0.8324, auc=0.9082, loss=0.296]\n",
      "Validation: 100%|██████████| 36/36 [00:00<00:00, 96.44it/s, acc=0.8368, auc=0.9103, loss=0.37]  \n"
     ]
    },
    {
     "name": "stdout",
     "output_type": "stream",
     "text": [
      "[Epoch 41] Train Loss: 0.3569, Acc: 0.8324, AUC: 0.9082\n",
      "[Epoch 41] Val   Loss: 0.3526, Acc: 0.8368, AUC: 0.9103\n",
      "\n",
      "Epoch 42/150\n"
     ]
    },
    {
     "name": "stderr",
     "output_type": "stream",
     "text": [
      "Training: 100%|██████████| 290/290 [00:07<00:00, 38.81it/s, acc=0.8336, auc=0.9091, loss=0.518]\n",
      "Validation: 100%|██████████| 36/36 [00:00<00:00, 100.77it/s, acc=0.8383, auc=0.9119, loss=0.381]\n"
     ]
    },
    {
     "name": "stdout",
     "output_type": "stream",
     "text": [
      "[Epoch 42] Train Loss: 0.3548, Acc: 0.8336, AUC: 0.9091\n",
      "[Epoch 42] Val   Loss: 0.3490, Acc: 0.8383, AUC: 0.9119\n",
      ">>> Best model updated and saved to ./saved_model/best_model.pth\n",
      "\n",
      "Epoch 43/150\n"
     ]
    },
    {
     "name": "stderr",
     "output_type": "stream",
     "text": [
      "Training: 100%|██████████| 290/290 [00:07<00:00, 39.15it/s, acc=0.8332, auc=0.9076, loss=0.397]\n",
      "Validation: 100%|██████████| 36/36 [00:00<00:00, 102.99it/s, acc=0.8346, auc=0.9099, loss=0.37] \n"
     ]
    },
    {
     "name": "stdout",
     "output_type": "stream",
     "text": [
      "[Epoch 43] Train Loss: 0.3584, Acc: 0.8332, AUC: 0.9076\n",
      "[Epoch 43] Val   Loss: 0.3518, Acc: 0.8346, AUC: 0.9099\n",
      "\n",
      "Epoch 44/150\n"
     ]
    },
    {
     "name": "stderr",
     "output_type": "stream",
     "text": [
      "Training: 100%|██████████| 290/290 [00:07<00:00, 38.36it/s, acc=0.8346, auc=0.9098, loss=0.314]\n",
      "Validation: 100%|██████████| 36/36 [00:00<00:00, 94.78it/s, acc=0.8372, auc=0.9089, loss=0.348] \n"
     ]
    },
    {
     "name": "stdout",
     "output_type": "stream",
     "text": [
      "[Epoch 44] Train Loss: 0.3542, Acc: 0.8346, AUC: 0.9098\n",
      "[Epoch 44] Val   Loss: 0.3561, Acc: 0.8372, AUC: 0.9089\n",
      "\n",
      "Epoch 45/150\n"
     ]
    },
    {
     "name": "stderr",
     "output_type": "stream",
     "text": [
      "Training: 100%|██████████| 290/290 [00:07<00:00, 39.52it/s, acc=0.8348, auc=0.9102, loss=0.377]\n",
      "Validation: 100%|██████████| 36/36 [00:00<00:00, 102.06it/s, acc=0.8318, auc=0.9093, loss=0.385]\n"
     ]
    },
    {
     "name": "stdout",
     "output_type": "stream",
     "text": [
      "[Epoch 45] Train Loss: 0.3534, Acc: 0.8348, AUC: 0.9102\n",
      "[Epoch 45] Val   Loss: 0.3563, Acc: 0.8318, AUC: 0.9093\n",
      "\n",
      "Epoch 46/150\n"
     ]
    },
    {
     "name": "stderr",
     "output_type": "stream",
     "text": [
      "Training: 100%|██████████| 290/290 [00:07<00:00, 36.87it/s, acc=0.8381, auc=0.9110, loss=0.312]\n",
      "Validation: 100%|██████████| 36/36 [00:00<00:00, 96.01it/s, acc=0.8414, auc=0.9097, loss=0.4]   \n"
     ]
    },
    {
     "name": "stdout",
     "output_type": "stream",
     "text": [
      "[Epoch 46] Train Loss: 0.3518, Acc: 0.8381, AUC: 0.9110\n",
      "[Epoch 46] Val   Loss: 0.3537, Acc: 0.8414, AUC: 0.9097\n",
      "\n",
      "Epoch 47/150\n"
     ]
    },
    {
     "name": "stderr",
     "output_type": "stream",
     "text": [
      "Training: 100%|██████████| 290/290 [00:07<00:00, 40.50it/s, acc=0.8375, auc=0.9116, loss=0.363]\n",
      "Validation: 100%|██████████| 36/36 [00:00<00:00, 102.19it/s, acc=0.8264, auc=0.9114, loss=0.352]\n"
     ]
    },
    {
     "name": "stdout",
     "output_type": "stream",
     "text": [
      "[Epoch 47] Train Loss: 0.3508, Acc: 0.8375, AUC: 0.9116\n",
      "[Epoch 47] Val   Loss: 0.3577, Acc: 0.8264, AUC: 0.9114\n",
      "\n",
      "Epoch 48/150\n"
     ]
    },
    {
     "name": "stderr",
     "output_type": "stream",
     "text": [
      "Training: 100%|██████████| 290/290 [00:07<00:00, 40.87it/s, acc=0.8377, auc=0.9117, loss=0.365]\n",
      "Validation: 100%|██████████| 36/36 [00:00<00:00, 105.50it/s, acc=0.8349, auc=0.9134, loss=0.368]\n"
     ]
    },
    {
     "name": "stdout",
     "output_type": "stream",
     "text": [
      "[Epoch 48] Train Loss: 0.3505, Acc: 0.8377, AUC: 0.9117\n",
      "[Epoch 48] Val   Loss: 0.3521, Acc: 0.8349, AUC: 0.9134\n",
      ">>> Best model updated and saved to ./saved_model/best_model.pth\n",
      "\n",
      "Epoch 49/150\n"
     ]
    },
    {
     "name": "stderr",
     "output_type": "stream",
     "text": [
      "Training: 100%|██████████| 290/290 [00:07<00:00, 39.20it/s, acc=0.8365, auc=0.9125, loss=0.346]\n",
      "Validation: 100%|██████████| 36/36 [00:00<00:00, 98.33it/s, acc=0.8288, auc=0.9099, loss=0.368] \n"
     ]
    },
    {
     "name": "stdout",
     "output_type": "stream",
     "text": [
      "[Epoch 49] Train Loss: 0.3487, Acc: 0.8365, AUC: 0.9125\n",
      "[Epoch 49] Val   Loss: 0.3616, Acc: 0.8288, AUC: 0.9099\n",
      "\n",
      "Epoch 50/150\n"
     ]
    },
    {
     "name": "stderr",
     "output_type": "stream",
     "text": [
      "Training: 100%|██████████| 290/290 [00:20<00:00, 14.30it/s, acc=0.8375, auc=0.9124, loss=0.293]\n",
      "Validation: 100%|██████████| 36/36 [00:00<00:00, 51.01it/s, acc=0.8420, auc=0.9127, loss=0.374]\n"
     ]
    },
    {
     "name": "stdout",
     "output_type": "stream",
     "text": [
      "[Epoch 50] Train Loss: 0.3492, Acc: 0.8375, AUC: 0.9124\n",
      "[Epoch 50] Val   Loss: 0.3444, Acc: 0.8420, AUC: 0.9127\n",
      "\n",
      "Epoch 51/150\n"
     ]
    },
    {
     "name": "stderr",
     "output_type": "stream",
     "text": [
      "Training: 100%|██████████| 290/290 [00:18<00:00, 15.38it/s, acc=0.8362, auc=0.9121, loss=0.282]\n",
      "Validation: 100%|██████████| 36/36 [00:01<00:00, 29.00it/s, acc=0.8377, auc=0.9118, loss=0.397]\n"
     ]
    },
    {
     "name": "stdout",
     "output_type": "stream",
     "text": [
      "[Epoch 51] Train Loss: 0.3496, Acc: 0.8362, AUC: 0.9121\n",
      "[Epoch 51] Val   Loss: 0.3502, Acc: 0.8377, AUC: 0.9118\n",
      "\n",
      "Epoch 52/150\n"
     ]
    },
    {
     "name": "stderr",
     "output_type": "stream",
     "text": [
      "Training: 100%|██████████| 290/290 [00:15<00:00, 18.17it/s, acc=0.8380, auc=0.9128, loss=0.316]\n",
      "Validation: 100%|██████████| 36/36 [00:00<00:00, 38.43it/s, acc=0.8359, auc=0.9132, loss=0.37] \n"
     ]
    },
    {
     "name": "stdout",
     "output_type": "stream",
     "text": [
      "[Epoch 52] Train Loss: 0.3482, Acc: 0.8380, AUC: 0.9128\n",
      "[Epoch 52] Val   Loss: 0.3503, Acc: 0.8359, AUC: 0.9132\n",
      "\n",
      "Epoch 53/150\n"
     ]
    },
    {
     "name": "stderr",
     "output_type": "stream",
     "text": [
      "Training: 100%|██████████| 290/290 [00:23<00:00, 12.37it/s, acc=0.8402, auc=0.9139, loss=0.351]\n",
      "Validation: 100%|██████████| 36/36 [00:00<00:00, 50.32it/s, acc=0.8446, auc=0.9134, loss=0.36] \n"
     ]
    },
    {
     "name": "stdout",
     "output_type": "stream",
     "text": [
      "[Epoch 53] Train Loss: 0.3459, Acc: 0.8402, AUC: 0.9139\n",
      "[Epoch 53] Val   Loss: 0.3466, Acc: 0.8446, AUC: 0.9134\n",
      "\n",
      "Epoch 54/150\n"
     ]
    },
    {
     "name": "stderr",
     "output_type": "stream",
     "text": [
      "Training: 100%|██████████| 290/290 [00:12<00:00, 22.68it/s, acc=0.8417, auc=0.9158, loss=0.365]\n",
      "Validation: 100%|██████████| 36/36 [00:00<00:00, 94.71it/s, acc=0.8318, auc=0.9080, loss=0.396] \n"
     ]
    },
    {
     "name": "stdout",
     "output_type": "stream",
     "text": [
      "[Epoch 54] Train Loss: 0.3422, Acc: 0.8417, AUC: 0.9158\n",
      "[Epoch 54] Val   Loss: 0.3652, Acc: 0.8318, AUC: 0.9080\n",
      "\n",
      "Epoch 55/150\n"
     ]
    },
    {
     "name": "stderr",
     "output_type": "stream",
     "text": [
      "Training: 100%|██████████| 290/290 [00:09<00:00, 31.20it/s, acc=0.8397, auc=0.9148, loss=0.393]\n",
      "Validation: 100%|██████████| 36/36 [00:00<00:00, 62.63it/s, acc=0.8388, auc=0.9127, loss=0.372]\n"
     ]
    },
    {
     "name": "stdout",
     "output_type": "stream",
     "text": [
      "[Epoch 55] Train Loss: 0.3442, Acc: 0.8397, AUC: 0.9148\n",
      "[Epoch 55] Val   Loss: 0.3492, Acc: 0.8388, AUC: 0.9127\n",
      "\n",
      "Epoch 56/150\n"
     ]
    },
    {
     "name": "stderr",
     "output_type": "stream",
     "text": [
      "Training: 100%|██████████| 290/290 [00:17<00:00, 16.58it/s, acc=0.8396, auc=0.9146, loss=0.341]\n",
      "Validation: 100%|██████████| 36/36 [00:00<00:00, 39.66it/s, acc=0.8322, auc=0.9086, loss=0.362]\n"
     ]
    },
    {
     "name": "stdout",
     "output_type": "stream",
     "text": [
      "[Epoch 56] Train Loss: 0.3447, Acc: 0.8396, AUC: 0.9146\n",
      "[Epoch 56] Val   Loss: 0.3604, Acc: 0.8322, AUC: 0.9086\n",
      "\n",
      "Epoch 57/150\n"
     ]
    },
    {
     "name": "stderr",
     "output_type": "stream",
     "text": [
      "Training: 100%|██████████| 290/290 [00:16<00:00, 17.52it/s, acc=0.8401, auc=0.9157, loss=0.382]\n",
      "Validation: 100%|██████████| 36/36 [00:00<00:00, 57.62it/s, acc=0.8398, auc=0.9126, loss=0.362]\n"
     ]
    },
    {
     "name": "stdout",
     "output_type": "stream",
     "text": [
      "[Epoch 57] Train Loss: 0.3423, Acc: 0.8401, AUC: 0.9157\n",
      "[Epoch 57] Val   Loss: 0.3456, Acc: 0.8398, AUC: 0.9126\n",
      "\n",
      "Epoch 58/150\n"
     ]
    },
    {
     "name": "stderr",
     "output_type": "stream",
     "text": [
      "Training: 100%|██████████| 290/290 [00:16<00:00, 17.28it/s, acc=0.8410, auc=0.9161, loss=0.363]\n",
      "Validation: 100%|██████████| 36/36 [00:00<00:00, 84.10it/s, acc=0.8329, auc=0.9092, loss=0.354]\n"
     ]
    },
    {
     "name": "stdout",
     "output_type": "stream",
     "text": [
      "[Epoch 58] Train Loss: 0.3412, Acc: 0.8410, AUC: 0.9161\n",
      "[Epoch 58] Val   Loss: 0.3559, Acc: 0.8329, AUC: 0.9092\n",
      "\n",
      "Epoch 59/150\n"
     ]
    },
    {
     "name": "stderr",
     "output_type": "stream",
     "text": [
      "Training: 100%|██████████| 290/290 [00:10<00:00, 27.50it/s, acc=0.8409, auc=0.9166, loss=0.341]\n",
      "Validation: 100%|██████████| 36/36 [00:00<00:00, 96.63it/s, acc=0.8405, auc=0.9139, loss=0.364] \n"
     ]
    },
    {
     "name": "stdout",
     "output_type": "stream",
     "text": [
      "[Epoch 59] Train Loss: 0.3405, Acc: 0.8409, AUC: 0.9166\n",
      "[Epoch 59] Val   Loss: 0.3467, Acc: 0.8405, AUC: 0.9139\n",
      ">>> Best model updated and saved to ./saved_model/best_model.pth\n",
      "\n",
      "Epoch 60/150\n"
     ]
    },
    {
     "name": "stderr",
     "output_type": "stream",
     "text": [
      "Training: 100%|██████████| 290/290 [00:07<00:00, 41.18it/s, acc=0.8405, auc=0.9159, loss=0.374]\n",
      "Validation: 100%|██████████| 36/36 [00:00<00:00, 107.54it/s, acc=0.8424, auc=0.9156, loss=0.355]\n"
     ]
    },
    {
     "name": "stdout",
     "output_type": "stream",
     "text": [
      "[Epoch 60] Train Loss: 0.3420, Acc: 0.8405, AUC: 0.9159\n",
      "[Epoch 60] Val   Loss: 0.3409, Acc: 0.8424, AUC: 0.9156\n",
      ">>> Best model updated and saved to ./saved_model/best_model.pth\n",
      "\n",
      "Epoch 61/150\n"
     ]
    },
    {
     "name": "stderr",
     "output_type": "stream",
     "text": [
      "Training: 100%|██████████| 290/290 [00:19<00:00, 14.80it/s, acc=0.8431, auc=0.9172, loss=0.349]\n",
      "Validation: 100%|██████████| 36/36 [00:00<00:00, 37.10it/s, acc=0.8438, auc=0.9163, loss=0.342]\n"
     ]
    },
    {
     "name": "stdout",
     "output_type": "stream",
     "text": [
      "[Epoch 61] Train Loss: 0.3393, Acc: 0.8431, AUC: 0.9172\n",
      "[Epoch 61] Val   Loss: 0.3402, Acc: 0.8438, AUC: 0.9163\n",
      ">>> Best model updated and saved to ./saved_model/best_model.pth\n",
      "\n",
      "Epoch 62/150\n"
     ]
    },
    {
     "name": "stderr",
     "output_type": "stream",
     "text": [
      "Training: 100%|██████████| 290/290 [00:20<00:00, 13.92it/s, acc=0.8428, auc=0.9177, loss=0.337]\n",
      "Validation: 100%|██████████| 36/36 [00:00<00:00, 73.08it/s, acc=0.8416, auc=0.9140, loss=0.336]\n"
     ]
    },
    {
     "name": "stdout",
     "output_type": "stream",
     "text": [
      "[Epoch 62] Train Loss: 0.3385, Acc: 0.8428, AUC: 0.9177\n",
      "[Epoch 62] Val   Loss: 0.3445, Acc: 0.8416, AUC: 0.9140\n",
      "\n",
      "Epoch 63/150\n"
     ]
    },
    {
     "name": "stderr",
     "output_type": "stream",
     "text": [
      "Training: 100%|██████████| 290/290 [00:15<00:00, 18.62it/s, acc=0.8425, auc=0.9186, loss=0.268]\n",
      "Validation: 100%|██████████| 36/36 [00:01<00:00, 23.39it/s, acc=0.8431, auc=0.9155, loss=0.343]\n"
     ]
    },
    {
     "name": "stdout",
     "output_type": "stream",
     "text": [
      "[Epoch 63] Train Loss: 0.3364, Acc: 0.8425, AUC: 0.9186\n",
      "[Epoch 63] Val   Loss: 0.3418, Acc: 0.8431, AUC: 0.9155\n",
      "\n",
      "Epoch 64/150\n"
     ]
    },
    {
     "name": "stderr",
     "output_type": "stream",
     "text": [
      "Training: 100%|██████████| 290/290 [00:07<00:00, 39.30it/s, acc=0.8429, auc=0.9175, loss=0.391]\n",
      "Validation: 100%|██████████| 36/36 [00:00<00:00, 102.92it/s, acc=0.8381, auc=0.9138, loss=0.348]\n"
     ]
    },
    {
     "name": "stdout",
     "output_type": "stream",
     "text": [
      "[Epoch 64] Train Loss: 0.3387, Acc: 0.8429, AUC: 0.9175\n",
      "[Epoch 64] Val   Loss: 0.3534, Acc: 0.8381, AUC: 0.9138\n",
      "\n",
      "Epoch 65/150\n"
     ]
    },
    {
     "name": "stderr",
     "output_type": "stream",
     "text": [
      "Training: 100%|██████████| 290/290 [00:06<00:00, 41.56it/s, acc=0.8423, auc=0.9190, loss=0.304]\n",
      "Validation: 100%|██████████| 36/36 [00:00<00:00, 98.84it/s, acc=0.8446, auc=0.9136, loss=0.385] \n"
     ]
    },
    {
     "name": "stdout",
     "output_type": "stream",
     "text": [
      "[Epoch 65] Train Loss: 0.3357, Acc: 0.8423, AUC: 0.9190\n",
      "[Epoch 65] Val   Loss: 0.3483, Acc: 0.8446, AUC: 0.9136\n",
      "\n",
      "Epoch 66/150\n"
     ]
    },
    {
     "name": "stderr",
     "output_type": "stream",
     "text": [
      "Training: 100%|██████████| 290/290 [00:07<00:00, 40.58it/s, acc=0.8423, auc=0.9185, loss=0.35] \n",
      "Validation: 100%|██████████| 36/36 [00:00<00:00, 103.23it/s, acc=0.8405, auc=0.9150, loss=0.332]\n"
     ]
    },
    {
     "name": "stdout",
     "output_type": "stream",
     "text": [
      "[Epoch 66] Train Loss: 0.3367, Acc: 0.8423, AUC: 0.9185\n",
      "[Epoch 66] Val   Loss: 0.3421, Acc: 0.8405, AUC: 0.9150\n",
      "\n",
      "Epoch 67/150\n"
     ]
    },
    {
     "name": "stderr",
     "output_type": "stream",
     "text": [
      "Training: 100%|██████████| 290/290 [00:07<00:00, 40.92it/s, acc=0.8449, auc=0.9206, loss=0.284]\n",
      "Validation: 100%|██████████| 36/36 [00:00<00:00, 104.30it/s, acc=0.8340, auc=0.9149, loss=0.358]\n"
     ]
    },
    {
     "name": "stdout",
     "output_type": "stream",
     "text": [
      "[Epoch 67] Train Loss: 0.3326, Acc: 0.8449, AUC: 0.9206\n",
      "[Epoch 67] Val   Loss: 0.3522, Acc: 0.8340, AUC: 0.9149\n",
      "\n",
      "Epoch 68/150\n"
     ]
    },
    {
     "name": "stderr",
     "output_type": "stream",
     "text": [
      "Training: 100%|██████████| 290/290 [00:06<00:00, 42.22it/s, acc=0.8459, auc=0.9201, loss=0.336]\n",
      "Validation: 100%|██████████| 36/36 [00:00<00:00, 108.46it/s, acc=0.8392, auc=0.9124, loss=0.351]\n"
     ]
    },
    {
     "name": "stdout",
     "output_type": "stream",
     "text": [
      "[Epoch 68] Train Loss: 0.3332, Acc: 0.8459, AUC: 0.9201\n",
      "[Epoch 68] Val   Loss: 0.3476, Acc: 0.8392, AUC: 0.9124\n",
      "\n",
      "Epoch 69/150\n"
     ]
    },
    {
     "name": "stderr",
     "output_type": "stream",
     "text": [
      "Training: 100%|██████████| 290/290 [00:07<00:00, 40.91it/s, acc=0.8452, auc=0.9197, loss=0.362]\n",
      "Validation: 100%|██████████| 36/36 [00:00<00:00, 97.89it/s, acc=0.8392, auc=0.9135, loss=0.342] \n"
     ]
    },
    {
     "name": "stdout",
     "output_type": "stream",
     "text": [
      "[Epoch 69] Train Loss: 0.3345, Acc: 0.8452, AUC: 0.9197\n",
      "[Epoch 69] Val   Loss: 0.3452, Acc: 0.8392, AUC: 0.9135\n",
      "\n",
      "Epoch 70/150\n"
     ]
    },
    {
     "name": "stderr",
     "output_type": "stream",
     "text": [
      "Training: 100%|██████████| 290/290 [00:07<00:00, 39.53it/s, acc=0.8454, auc=0.9203, loss=0.377]\n",
      "Validation: 100%|██████████| 36/36 [00:00<00:00, 107.49it/s, acc=0.8390, auc=0.9138, loss=0.367]\n"
     ]
    },
    {
     "name": "stdout",
     "output_type": "stream",
     "text": [
      "[Epoch 70] Train Loss: 0.3330, Acc: 0.8454, AUC: 0.9203\n",
      "[Epoch 70] Val   Loss: 0.3421, Acc: 0.8390, AUC: 0.9138\n",
      "\n",
      "Epoch 71/150\n"
     ]
    },
    {
     "name": "stderr",
     "output_type": "stream",
     "text": [
      "Training: 100%|██████████| 290/290 [00:06<00:00, 41.60it/s, acc=0.8466, auc=0.9215, loss=0.285]\n",
      "Validation: 100%|██████████| 36/36 [00:00<00:00, 103.69it/s, acc=0.8422, auc=0.9168, loss=0.343]\n"
     ]
    },
    {
     "name": "stdout",
     "output_type": "stream",
     "text": [
      "[Epoch 71] Train Loss: 0.3302, Acc: 0.8466, AUC: 0.9215\n",
      "[Epoch 71] Val   Loss: 0.3358, Acc: 0.8422, AUC: 0.9168\n",
      ">>> Best model updated and saved to ./saved_model/best_model.pth\n",
      "\n",
      "Epoch 72/150\n"
     ]
    },
    {
     "name": "stderr",
     "output_type": "stream",
     "text": [
      "Training: 100%|██████████| 290/290 [00:06<00:00, 41.51it/s, acc=0.8473, auc=0.9217, loss=0.42] \n",
      "Validation: 100%|██████████| 36/36 [00:00<00:00, 106.49it/s, acc=0.8459, auc=0.9170, loss=0.36] \n"
     ]
    },
    {
     "name": "stdout",
     "output_type": "stream",
     "text": [
      "[Epoch 72] Train Loss: 0.3297, Acc: 0.8473, AUC: 0.9217\n",
      "[Epoch 72] Val   Loss: 0.3424, Acc: 0.8459, AUC: 0.9170\n",
      ">>> Best model updated and saved to ./saved_model/best_model.pth\n",
      "\n",
      "Epoch 73/150\n"
     ]
    },
    {
     "name": "stderr",
     "output_type": "stream",
     "text": [
      "Training: 100%|██████████| 290/290 [00:06<00:00, 41.44it/s, acc=0.8481, auc=0.9237, loss=0.284]\n",
      "Validation: 100%|██████████| 36/36 [00:00<00:00, 105.37it/s, acc=0.8429, auc=0.9155, loss=0.344]\n"
     ]
    },
    {
     "name": "stdout",
     "output_type": "stream",
     "text": [
      "[Epoch 73] Train Loss: 0.3262, Acc: 0.8481, AUC: 0.9237\n",
      "[Epoch 73] Val   Loss: 0.3439, Acc: 0.8429, AUC: 0.9155\n",
      "\n",
      "Epoch 74/150\n"
     ]
    },
    {
     "name": "stderr",
     "output_type": "stream",
     "text": [
      "Training: 100%|██████████| 290/290 [00:06<00:00, 41.49it/s, acc=0.8480, auc=0.9230, loss=0.347]\n",
      "Validation: 100%|██████████| 36/36 [00:00<00:00, 103.72it/s, acc=0.8424, auc=0.9161, loss=0.338]\n"
     ]
    },
    {
     "name": "stdout",
     "output_type": "stream",
     "text": [
      "[Epoch 74] Train Loss: 0.3273, Acc: 0.8480, AUC: 0.9230\n",
      "[Epoch 74] Val   Loss: 0.3405, Acc: 0.8424, AUC: 0.9161\n",
      "\n",
      "Epoch 75/150\n"
     ]
    },
    {
     "name": "stderr",
     "output_type": "stream",
     "text": [
      "Training: 100%|██████████| 290/290 [00:07<00:00, 40.33it/s, acc=0.8469, auc=0.9228, loss=0.359]\n",
      "Validation: 100%|██████████| 36/36 [00:00<00:00, 104.03it/s, acc=0.8385, auc=0.9128, loss=0.334]\n"
     ]
    },
    {
     "name": "stdout",
     "output_type": "stream",
     "text": [
      "[Epoch 75] Train Loss: 0.3274, Acc: 0.8469, AUC: 0.9228\n",
      "[Epoch 75] Val   Loss: 0.3463, Acc: 0.8385, AUC: 0.9128\n",
      "\n",
      "Epoch 76/150\n"
     ]
    },
    {
     "name": "stderr",
     "output_type": "stream",
     "text": [
      "Training: 100%|██████████| 290/290 [00:06<00:00, 41.62it/s, acc=0.8482, auc=0.9237, loss=0.289]\n",
      "Validation: 100%|██████████| 36/36 [00:00<00:00, 106.09it/s, acc=0.8390, auc=0.9149, loss=0.349]\n"
     ]
    },
    {
     "name": "stdout",
     "output_type": "stream",
     "text": [
      "[Epoch 76] Train Loss: 0.3254, Acc: 0.8482, AUC: 0.9237\n",
      "[Epoch 76] Val   Loss: 0.3418, Acc: 0.8390, AUC: 0.9149\n",
      "\n",
      "Epoch 77/150\n"
     ]
    },
    {
     "name": "stderr",
     "output_type": "stream",
     "text": [
      "Training: 100%|██████████| 290/290 [00:07<00:00, 41.26it/s, acc=0.8491, auc=0.9242, loss=0.318]\n",
      "Validation: 100%|██████████| 36/36 [00:00<00:00, 106.00it/s, acc=0.8379, auc=0.9167, loss=0.347]\n"
     ]
    },
    {
     "name": "stdout",
     "output_type": "stream",
     "text": [
      "[Epoch 77] Train Loss: 0.3247, Acc: 0.8491, AUC: 0.9242\n",
      "[Epoch 77] Val   Loss: 0.3483, Acc: 0.8379, AUC: 0.9167\n",
      "\n",
      "Epoch 78/150\n"
     ]
    },
    {
     "name": "stderr",
     "output_type": "stream",
     "text": [
      "Training: 100%|██████████| 290/290 [00:07<00:00, 40.69it/s, acc=0.8515, auc=0.9258, loss=0.387]\n",
      "Validation: 100%|██████████| 36/36 [00:00<00:00, 104.62it/s, acc=0.8418, auc=0.9145, loss=0.341]\n"
     ]
    },
    {
     "name": "stdout",
     "output_type": "stream",
     "text": [
      "[Epoch 78] Train Loss: 0.3212, Acc: 0.8515, AUC: 0.9258\n",
      "[Epoch 78] Val   Loss: 0.3459, Acc: 0.8418, AUC: 0.9145\n",
      "\n",
      "Epoch 79/150\n"
     ]
    },
    {
     "name": "stderr",
     "output_type": "stream",
     "text": [
      "Training: 100%|██████████| 290/290 [00:07<00:00, 40.76it/s, acc=0.8511, auc=0.9249, loss=0.29] \n",
      "Validation: 100%|██████████| 36/36 [00:00<00:00, 104.47it/s, acc=0.8440, auc=0.9167, loss=0.355]\n"
     ]
    },
    {
     "name": "stdout",
     "output_type": "stream",
     "text": [
      "[Epoch 79] Train Loss: 0.3233, Acc: 0.8511, AUC: 0.9249\n",
      "[Epoch 79] Val   Loss: 0.3392, Acc: 0.8440, AUC: 0.9167\n",
      "\n",
      "Epoch 80/150\n"
     ]
    },
    {
     "name": "stderr",
     "output_type": "stream",
     "text": [
      "Training: 100%|██████████| 290/290 [00:07<00:00, 40.80it/s, acc=0.8503, auc=0.9245, loss=0.317]\n",
      "Validation: 100%|██████████| 36/36 [00:00<00:00, 99.91it/s, acc=0.8405, auc=0.9148, loss=0.31]  \n"
     ]
    },
    {
     "name": "stdout",
     "output_type": "stream",
     "text": [
      "[Epoch 80] Train Loss: 0.3235, Acc: 0.8503, AUC: 0.9245\n",
      "[Epoch 80] Val   Loss: 0.3395, Acc: 0.8405, AUC: 0.9148\n",
      "\n",
      "Epoch 81/150\n"
     ]
    },
    {
     "name": "stderr",
     "output_type": "stream",
     "text": [
      "Training: 100%|██████████| 290/290 [00:07<00:00, 40.82it/s, acc=0.8509, auc=0.9257, loss=0.38] \n",
      "Validation: 100%|██████████| 36/36 [00:00<00:00, 103.66it/s, acc=0.8416, auc=0.9160, loss=0.339]\n"
     ]
    },
    {
     "name": "stdout",
     "output_type": "stream",
     "text": [
      "[Epoch 81] Train Loss: 0.3206, Acc: 0.8509, AUC: 0.9257\n",
      "[Epoch 81] Val   Loss: 0.3424, Acc: 0.8416, AUC: 0.9160\n",
      "\n",
      "Epoch 82/150\n"
     ]
    },
    {
     "name": "stderr",
     "output_type": "stream",
     "text": [
      "Training: 100%|██████████| 290/290 [00:07<00:00, 40.34it/s, acc=0.8529, auc=0.9273, loss=0.268]\n",
      "Validation: 100%|██████████| 36/36 [00:00<00:00, 103.55it/s, acc=0.8299, auc=0.9119, loss=0.385]\n"
     ]
    },
    {
     "name": "stdout",
     "output_type": "stream",
     "text": [
      "[Epoch 82] Train Loss: 0.3183, Acc: 0.8529, AUC: 0.9273\n",
      "[Epoch 82] Val   Loss: 0.3600, Acc: 0.8299, AUC: 0.9119\n",
      "\n",
      "Epoch 83/150\n"
     ]
    },
    {
     "name": "stderr",
     "output_type": "stream",
     "text": [
      "Training: 100%|██████████| 290/290 [00:07<00:00, 40.57it/s, acc=0.8502, auc=0.9255, loss=0.246]\n",
      "Validation: 100%|██████████| 36/36 [00:00<00:00, 100.86it/s, acc=0.8396, auc=0.9136, loss=0.347]\n"
     ]
    },
    {
     "name": "stdout",
     "output_type": "stream",
     "text": [
      "[Epoch 83] Train Loss: 0.3221, Acc: 0.8502, AUC: 0.9255\n",
      "[Epoch 83] Val   Loss: 0.3453, Acc: 0.8396, AUC: 0.9136\n",
      "\n",
      "Epoch 84/150\n"
     ]
    },
    {
     "name": "stderr",
     "output_type": "stream",
     "text": [
      "Training: 100%|██████████| 290/290 [00:07<00:00, 40.65it/s, acc=0.8549, auc=0.9281, loss=0.358]\n",
      "Validation: 100%|██████████| 36/36 [00:00<00:00, 100.45it/s, acc=0.8422, auc=0.9153, loss=0.342]\n"
     ]
    },
    {
     "name": "stdout",
     "output_type": "stream",
     "text": [
      "[Epoch 84] Train Loss: 0.3162, Acc: 0.8549, AUC: 0.9281\n",
      "[Epoch 84] Val   Loss: 0.3396, Acc: 0.8422, AUC: 0.9153\n",
      "\n",
      "Epoch 85/150\n"
     ]
    },
    {
     "name": "stderr",
     "output_type": "stream",
     "text": [
      "Training: 100%|██████████| 290/290 [00:07<00:00, 40.63it/s, acc=0.8534, auc=0.9283, loss=0.231]\n",
      "Validation: 100%|██████████| 36/36 [00:00<00:00, 101.94it/s, acc=0.8438, auc=0.9168, loss=0.329]\n"
     ]
    },
    {
     "name": "stdout",
     "output_type": "stream",
     "text": [
      "[Epoch 85] Train Loss: 0.3155, Acc: 0.8534, AUC: 0.9283\n",
      "[Epoch 85] Val   Loss: 0.3405, Acc: 0.8438, AUC: 0.9168\n",
      "\n",
      "Epoch 86/150\n"
     ]
    },
    {
     "name": "stderr",
     "output_type": "stream",
     "text": [
      "Training: 100%|██████████| 290/290 [00:07<00:00, 40.82it/s, acc=0.8535, auc=0.9280, loss=0.254]\n",
      "Validation: 100%|██████████| 36/36 [00:00<00:00, 102.93it/s, acc=0.8390, auc=0.9152, loss=0.333]\n"
     ]
    },
    {
     "name": "stdout",
     "output_type": "stream",
     "text": [
      "[Epoch 86] Train Loss: 0.3161, Acc: 0.8535, AUC: 0.9280\n",
      "[Epoch 86] Val   Loss: 0.3447, Acc: 0.8390, AUC: 0.9152\n",
      "\n",
      "Epoch 87/150\n"
     ]
    },
    {
     "name": "stderr",
     "output_type": "stream",
     "text": [
      "Training: 100%|██████████| 290/290 [00:07<00:00, 41.32it/s, acc=0.8533, auc=0.9287, loss=0.291]\n",
      "Validation: 100%|██████████| 36/36 [00:00<00:00, 102.02it/s, acc=0.8420, auc=0.9133, loss=0.359]\n"
     ]
    },
    {
     "name": "stdout",
     "output_type": "stream",
     "text": [
      "[Epoch 87] Train Loss: 0.3144, Acc: 0.8533, AUC: 0.9287\n",
      "[Epoch 87] Val   Loss: 0.3484, Acc: 0.8420, AUC: 0.9133\n",
      "\n",
      "Epoch 88/150\n"
     ]
    },
    {
     "name": "stderr",
     "output_type": "stream",
     "text": [
      "Training: 100%|██████████| 290/290 [00:07<00:00, 41.35it/s, acc=0.8521, auc=0.9277, loss=0.315]\n",
      "Validation: 100%|██████████| 36/36 [00:00<00:00, 107.43it/s, acc=0.8388, auc=0.9162, loss=0.361]\n"
     ]
    },
    {
     "name": "stdout",
     "output_type": "stream",
     "text": [
      "[Epoch 88] Train Loss: 0.3163, Acc: 0.8521, AUC: 0.9277\n",
      "[Epoch 88] Val   Loss: 0.3466, Acc: 0.8388, AUC: 0.9162\n",
      "\n",
      "Epoch 89/150\n"
     ]
    },
    {
     "name": "stderr",
     "output_type": "stream",
     "text": [
      "Training: 100%|██████████| 290/290 [00:07<00:00, 40.95it/s, acc=0.8547, auc=0.9296, loss=0.286]\n",
      "Validation: 100%|██████████| 36/36 [00:00<00:00, 102.28it/s, acc=0.8414, auc=0.9148, loss=0.349]\n"
     ]
    },
    {
     "name": "stdout",
     "output_type": "stream",
     "text": [
      "[Epoch 89] Train Loss: 0.3128, Acc: 0.8547, AUC: 0.9296\n",
      "[Epoch 89] Val   Loss: 0.3428, Acc: 0.8414, AUC: 0.9148\n",
      "\n",
      "Epoch 90/150\n"
     ]
    },
    {
     "name": "stderr",
     "output_type": "stream",
     "text": [
      "Training: 100%|██████████| 290/290 [00:07<00:00, 40.23it/s, acc=0.8541, auc=0.9300, loss=0.396]\n",
      "Validation: 100%|██████████| 36/36 [00:00<00:00, 103.98it/s, acc=0.8401, auc=0.9158, loss=0.35] \n"
     ]
    },
    {
     "name": "stdout",
     "output_type": "stream",
     "text": [
      "[Epoch 90] Train Loss: 0.3119, Acc: 0.8541, AUC: 0.9300\n",
      "[Epoch 90] Val   Loss: 0.3424, Acc: 0.8401, AUC: 0.9158\n",
      "\n",
      "Epoch 91/150\n"
     ]
    },
    {
     "name": "stderr",
     "output_type": "stream",
     "text": [
      "Training: 100%|██████████| 290/290 [00:07<00:00, 37.73it/s, acc=0.8525, auc=0.9288, loss=0.23] \n",
      "Validation: 100%|██████████| 36/36 [00:00<00:00, 98.67it/s, acc=0.8346, auc=0.9148, loss=0.35]  \n"
     ]
    },
    {
     "name": "stdout",
     "output_type": "stream",
     "text": [
      "[Epoch 91] Train Loss: 0.3145, Acc: 0.8525, AUC: 0.9288\n",
      "[Epoch 91] Val   Loss: 0.3530, Acc: 0.8346, AUC: 0.9148\n",
      "\n",
      "Epoch 92/150\n"
     ]
    },
    {
     "name": "stderr",
     "output_type": "stream",
     "text": [
      "Training: 100%|██████████| 290/290 [00:11<00:00, 24.40it/s, acc=0.8548, auc=0.9284, loss=0.289]\n",
      "Validation: 100%|██████████| 36/36 [00:00<00:00, 103.20it/s, acc=0.8340, auc=0.9150, loss=0.348]"
     ]
    },
    {
     "name": "stdout",
     "output_type": "stream",
     "text": [
      "[Epoch 92] Train Loss: 0.3157, Acc: 0.8548, AUC: 0.9284\n",
      "[Epoch 92] Val   Loss: 0.3510, Acc: 0.8340, AUC: 0.9150\n",
      ">>> Early stopping: No improvement in 20 epochs.\n"
     ]
    },
    {
     "name": "stderr",
     "output_type": "stream",
     "text": [
      "\n"
     ]
    }
   ],
   "source": [
    "model = StructuredNoteFusionClassifier(\n",
    "    input_dim=35,\n",
    "    d_model=128,\n",
    "    note_hidden_dim=64\n",
    ").to(device)\n",
    "\n",
    "history = train_model(model, train_dataloader, \n",
    "                      val_dataloader, num_epochs=150, \n",
    "                      lr = 1e-4, \n",
    "                      save_path = './saved_model/best_model.pth')"
   ]
  },
  {
   "cell_type": "code",
   "execution_count": 24,
   "id": "e80ee1f4",
   "metadata": {},
   "outputs": [
    {
     "data": {
      "image/png": "[encoded data removed]",
      "text/plain": [
       "<Figure size 640x480 with 1 Axes>"
      ]
     },
     "metadata": {},
     "output_type": "display_data"
    }
   ],
   "source": [
    "plt.plot(history['train_loss'], label='Train Loss')\n",
    "plt.plot(history['val_loss'], label='Val Loss')\n",
    "plt.legend()\n",
    "plt.show()"
   ]
  },
  {
   "cell_type": "markdown",
   "id": "1d48b1b0",
   "metadata": {},
   "source": [
    "# 用测试集评分"
   ]
  },
  {
   "cell_type": "code",
   "execution_count": 26,
   "id": "378fc54f",
   "metadata": {},
   "outputs": [
    {
     "name": "stdout",
     "output_type": "stream",
     "text": [
      "[MIMICDataset] Loaded 4689 samples into memory.\n"
     ]
    }
   ],
   "source": [
    "test_dataset = MIMICDataset(test_listfile_path, mode='test')"
   ]
  },
  {
   "cell_type": "code",
   "execution_count": 27,
   "id": "b9fa09c8",
   "metadata": {},
   "outputs": [],
   "source": [
    "test_dataloader = DataLoader(test_dataset, batch_size=128, shuffle=False, num_workers=0, drop_last=True)"
   ]
  },
  {
   "cell_type": "code",
   "execution_count": 29,
   "id": "cd6aeebb",
   "metadata": {},
   "outputs": [],
   "source": [
    "def test_model(model, test_dataloader, checkpoint_path, device='cuda'):\n",
    "    model.load_state_dict(torch.load(checkpoint_path, map_location=device))\n",
    "    model = model.to(device)\n",
    "    model.eval()\n",
    "\n",
    "    all_preds = []\n",
    "    all_labels = []\n",
    "\n",
    "    with torch.no_grad():\n",
    "        for timeseries, note_embeddings, labels in tqdm(test_dataloader, desc=\"Testing\"):\n",
    "            timeseries = timeseries.to(device)\n",
    "            note_embeddings = note_embeddings.to(device)\n",
    "            labels = labels.to(device)\n",
    "\n",
    "            logits = model(timeseries, note_embeddings)\n",
    "            preds = torch.sigmoid(logits).cpu().numpy()\n",
    "            all_preds.extend(preds)\n",
    "            all_labels.extend(labels.cpu().numpy())\n",
    "\n",
    "    # ==== 评估指标 ====\n",
    "    auc = roc_auc_score(all_labels, all_preds)\n",
    "    acc = accuracy_score(all_labels, (np.array(all_preds) >= 0.5).astype(int))\n",
    "    print(f\"✅ Test AUC: {auc:.4f}, Accuracy: {acc:.4f}\")\n",
    "\n",
    "    # ==== 绘制 AUC 曲线 ====\n",
    "    fpr, tpr, _ = roc_curve(all_labels, all_preds)\n",
    "    plt.figure(figsize=(6, 5))\n",
    "    plt.plot(fpr, tpr, label=f\"AUC = {auc:.4f}\")\n",
    "    plt.plot([0, 1], [0, 1], linestyle='--', color='gray')\n",
    "    plt.xlabel(\"False Positive Rate\")\n",
    "    plt.ylabel(\"True Positive Rate\")\n",
    "    plt.title(\"ROC Curve on Test Set\")\n",
    "    plt.legend()\n",
    "    plt.grid(True)\n",
    "    plt.tight_layout()\n",
    "    plt.show()"
   ]
  },
  {
   "cell_type": "code",
   "execution_count": 30,
   "id": "b16b09bc",
   "metadata": {},
   "outputs": [
    {
     "name": "stderr",
     "output_type": "stream",
     "text": [
      "Testing: 100%|██████████| 36/36 [00:00<00:00, 79.03it/s]"
     ]
    },
    {
     "name": "stdout",
     "output_type": "stream",
     "text": [
      "✅ Test AUC: 0.9095, Accuracy: 0.8318\n"
     ]
    },
    {
     "name": "stderr",
     "output_type": "stream",
     "text": [
      "\n"
     ]
    },
    {
     "data": {
      "image/png": "[encoded data removed]",
      "text/plain": [
       "<Figure size 600x500 with 1 Axes>"
      ]
     },
     "metadata": {},
     "output_type": "display_data"
    }
   ],
   "source": [
    "test_model(\n",
    "    model,\n",
    "    test_dataloader=test_dataloader,\n",
    "    checkpoint_path='./saved_model/best_model.pth',\n",
    "    device=device\n",
    ")"
   ]
  },
  {
   "cell_type": "code",
   "execution_count": null,
   "id": "dc383cb1",
   "metadata": {},
   "outputs": [],
   "source": []
  }
 ],
 "metadata": {
  "kernelspec": {
   "display_name": "doog",
   "language": "python",
   "name": "python3"
  },
  "language_info": {
   "codemirror_mode": {
    "name": "ipython",
    "version": 3
   },
   "file_extension": ".py",
   "mimetype": "text/x-python",
   "name": "python",
   "nbconvert_exporter": "python",
   "pygments_lexer": "ipython3",
   "version": "3.10.6"
  }
 },
 "nbformat": 4,
 "nbformat_minor": 5
}
